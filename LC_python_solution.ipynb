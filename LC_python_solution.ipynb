{
 "cells": [
  {
   "cell_type": "markdown",
   "id": "c65a7994",
   "metadata": {},
   "source": [
    "# Python solution \n",
    "to validate bank submission and perform auto-data correction before feeding into the consensus check"
   ]
  },
  {
   "cell_type": "markdown",
   "id": "f7abf5b4",
   "metadata": {},
   "source": [
    "# Overrall design:\n",
    "    \n",
    "    step 1 - using the raw submission file to produce some useful data insights \n",
    "    step 2 (technical step) - create all validation functions first and will save them all in a module for use later\n",
    "    Step 3 - using all the functions from step 2 to perform the check on the orignial submission and create all necessary new columns with check result, and produce a report for the validation reports (without any data manipulation), including duplication check\n",
    "    step 4 - perform auto data correction with the orignal value included as well (for audit purpose)\n",
    "    step 5 - produce a final submission file with all corrected data for consensus run\n",
    "    \n",
    "    is any ML model any useful here?"
   ]
  },
  {
   "cell_type": "markdown",
   "id": "d2cf08c3",
   "metadata": {},
   "source": [
    "# things to include in the solution:\n",
    "    1. original data with their check results (no data manipulation)\n",
    "    2. manipulated data\n",
    "    3. counts on all error rows v original submission rows\n",
    "    4. duplication check (after the individual data point validation)\n",
    "    "
   ]
  },
  {
   "cell_type": "markdown",
   "id": "a83cdce4",
   "metadata": {},
   "source": [
    "# Step 1 - basic EDA on bank submission \n",
    "\n",
    "- using CS submission on Nov 2021 as an example here"
   ]
  },
  {
   "cell_type": "code",
   "execution_count": 1,
   "id": "38e74c41",
   "metadata": {},
   "outputs": [
    {
     "name": "stderr",
     "output_type": "stream",
     "text": [
      "/Users/lchen/opt/anaconda3/lib/python3.8/site-packages/fuzzywuzzy/fuzz.py:11: UserWarning: Using slow pure-python SequenceMatcher. Install python-Levenshtein to remove this warning\n",
      "  warnings.warn('Using slow pure-python SequenceMatcher. Install python-Levenshtein to remove this warning')\n"
     ]
    }
   ],
   "source": [
    "import pandas as pd\n",
    "import seaborn as sns\n",
    "import numpy as np\n",
    "from datetime import datetime\n",
    "import datetime\n",
    "import ccy\n",
    "from fuzzywuzzy import process\n"
   ]
  },
  {
   "cell_type": "code",
   "execution_count": 2,
   "id": "e23b283e",
   "metadata": {},
   "outputs": [],
   "source": [
    "#from submission_validation_module import *\n",
    "from mymodule import *"
   ]
  },
  {
   "cell_type": "code",
   "execution_count": 3,
   "id": "be687821",
   "metadata": {},
   "outputs": [],
   "source": [
    "#import sys, importlib\n",
    "#importlib.reload(sys.modules['mymodule'])\n",
    "#from mymodule import submission_mid_fwrd_points_cal_tolerance_check"
   ]
  },
  {
   "cell_type": "code",
   "execution_count": 66,
   "id": "8f6d1ff4",
   "metadata": {},
   "outputs": [
    {
     "name": "stdout",
     "output_type": "stream",
     "text": [
      "Enabling: voila-sys-prefix\r\n",
      "- Writing config: /Users/lchen/.jupyter\r\n",
      "    - Validating...\r\n",
      "Error loading server extension voila-sys-prefix\r\n",
      "     \u001b[31m X\u001b[0m is voila-sys-prefix importable?\r\n"
     ]
    }
   ],
   "source": [
    "#!pip install voila so others can use the code without having\n",
    "!jupyter serverextension enable voila-sys-prefix"
   ]
  },
  {
   "cell_type": "markdown",
   "id": "5716b733",
   "metadata": {},
   "source": [
    "# set file path"
   ]
  },
  {
   "cell_type": "code",
   "execution_count": 4,
   "id": "c1969815",
   "metadata": {},
   "outputs": [],
   "source": [
    "path = '/Users/lchen/Desktop/Titanium/python_scripts/LC_folder/CS_Forwards_Nov.csv'"
   ]
  },
  {
   "cell_type": "markdown",
   "id": "743cf8f8",
   "metadata": {},
   "source": [
    "# Open submission file"
   ]
  },
  {
   "cell_type": "code",
   "execution_count": 5,
   "id": "6e59f58c",
   "metadata": {},
   "outputs": [],
   "source": [
    "cs_nov = pd.read_csv(path)"
   ]
  },
  {
   "cell_type": "code",
   "execution_count": 6,
   "id": "5484270b",
   "metadata": {},
   "outputs": [
    {
     "data": {
      "text/html": [
       "<div>\n",
       "<style scoped>\n",
       "    .dataframe tbody tr th:only-of-type {\n",
       "        vertical-align: middle;\n",
       "    }\n",
       "\n",
       "    .dataframe tbody tr th {\n",
       "        vertical-align: top;\n",
       "    }\n",
       "\n",
       "    .dataframe thead th {\n",
       "        text-align: right;\n",
       "    }\n",
       "</style>\n",
       "<table border=\"1\" class=\"dataframe\">\n",
       "  <thead>\n",
       "    <tr style=\"text-align: right;\">\n",
       "      <th></th>\n",
       "      <th>submission_date</th>\n",
       "      <th>submission_client</th>\n",
       "      <th>submission_asset</th>\n",
       "      <th>submission_service</th>\n",
       "      <th>submission_snap_time</th>\n",
       "      <th>submission_curr_1</th>\n",
       "      <th>submission_curr_2</th>\n",
       "      <th>submission_onshore_offshore_curr_1</th>\n",
       "      <th>submission_onshore_offshore_curr_2</th>\n",
       "      <th>submission_instrument_type</th>\n",
       "      <th>submission_tenor</th>\n",
       "      <th>submission_fwrd_conversion_factor</th>\n",
       "      <th>submission_value_source</th>\n",
       "      <th>submission_value_source_ref_id</th>\n",
       "      <th>submission_spot_reference_price</th>\n",
       "      <th>submission_mid_fwrd_outright</th>\n",
       "      <th>submission_mid_fwrd_points</th>\n",
       "    </tr>\n",
       "  </thead>\n",
       "  <tbody>\n",
       "    <tr>\n",
       "      <th>0</th>\n",
       "      <td>11/30/21</td>\n",
       "      <td>Credit Suisse</td>\n",
       "      <td>Foreign Exchange</td>\n",
       "      <td>Vanilla</td>\n",
       "      <td>London 4 PM</td>\n",
       "      <td>AUD</td>\n",
       "      <td>CAD</td>\n",
       "      <td>NaN</td>\n",
       "      <td>NaN</td>\n",
       "      <td>Spot Price</td>\n",
       "      <td>Spot</td>\n",
       "      <td>NaN</td>\n",
       "      <td>NaN</td>\n",
       "      <td>NaN</td>\n",
       "      <td>0.913745</td>\n",
       "      <td>NaN</td>\n",
       "      <td>0.913745</td>\n",
       "    </tr>\n",
       "    <tr>\n",
       "      <th>1</th>\n",
       "      <td>11/30/21</td>\n",
       "      <td>Credit Suisse</td>\n",
       "      <td>Foreign Exchange</td>\n",
       "      <td>Vanilla</td>\n",
       "      <td>London 4 PM</td>\n",
       "      <td>AUD</td>\n",
       "      <td>CAD</td>\n",
       "      <td>NaN</td>\n",
       "      <td>NaN</td>\n",
       "      <td>Forward</td>\n",
       "      <td>ON</td>\n",
       "      <td>10000.0</td>\n",
       "      <td>NaN</td>\n",
       "      <td>NaN</td>\n",
       "      <td>0.913745</td>\n",
       "      <td>0.913750</td>\n",
       "      <td>0.048486</td>\n",
       "    </tr>\n",
       "    <tr>\n",
       "      <th>2</th>\n",
       "      <td>11/30/21</td>\n",
       "      <td>Credit Suisse</td>\n",
       "      <td>Foreign Exchange</td>\n",
       "      <td>Vanilla</td>\n",
       "      <td>London 4 PM</td>\n",
       "      <td>AUD</td>\n",
       "      <td>CAD</td>\n",
       "      <td>NaN</td>\n",
       "      <td>NaN</td>\n",
       "      <td>Forward</td>\n",
       "      <td>TN</td>\n",
       "      <td>10000.0</td>\n",
       "      <td>NaN</td>\n",
       "      <td>NaN</td>\n",
       "      <td>0.913745</td>\n",
       "      <td>0.913750</td>\n",
       "      <td>0.048486</td>\n",
       "    </tr>\n",
       "    <tr>\n",
       "      <th>3</th>\n",
       "      <td>11/30/21</td>\n",
       "      <td>Credit Suisse</td>\n",
       "      <td>Foreign Exchange</td>\n",
       "      <td>Vanilla</td>\n",
       "      <td>London 4 PM</td>\n",
       "      <td>AUD</td>\n",
       "      <td>CAD</td>\n",
       "      <td>NaN</td>\n",
       "      <td>NaN</td>\n",
       "      <td>Forward</td>\n",
       "      <td>SpotNext</td>\n",
       "      <td>10000.0</td>\n",
       "      <td>NaN</td>\n",
       "      <td>NaN</td>\n",
       "      <td>0.913745</td>\n",
       "      <td>0.913750</td>\n",
       "      <td>0.048486</td>\n",
       "    </tr>\n",
       "    <tr>\n",
       "      <th>4</th>\n",
       "      <td>11/30/21</td>\n",
       "      <td>Credit Suisse</td>\n",
       "      <td>Foreign Exchange</td>\n",
       "      <td>Vanilla</td>\n",
       "      <td>London 4 PM</td>\n",
       "      <td>AUD</td>\n",
       "      <td>CAD</td>\n",
       "      <td>NaN</td>\n",
       "      <td>NaN</td>\n",
       "      <td>Forward</td>\n",
       "      <td>1W</td>\n",
       "      <td>10000.0</td>\n",
       "      <td>NaN</td>\n",
       "      <td>NaN</td>\n",
       "      <td>0.913745</td>\n",
       "      <td>0.913776</td>\n",
       "      <td>0.309370</td>\n",
       "    </tr>\n",
       "  </tbody>\n",
       "</table>\n",
       "</div>"
      ],
      "text/plain": [
       "  submission_date submission_client  submission_asset submission_service  \\\n",
       "0        11/30/21     Credit Suisse  Foreign Exchange            Vanilla   \n",
       "1        11/30/21     Credit Suisse  Foreign Exchange            Vanilla   \n",
       "2        11/30/21     Credit Suisse  Foreign Exchange            Vanilla   \n",
       "3        11/30/21     Credit Suisse  Foreign Exchange            Vanilla   \n",
       "4        11/30/21     Credit Suisse  Foreign Exchange            Vanilla   \n",
       "\n",
       "  submission_snap_time submission_curr_1 submission_curr_2  \\\n",
       "0          London 4 PM               AUD               CAD   \n",
       "1          London 4 PM               AUD               CAD   \n",
       "2          London 4 PM               AUD               CAD   \n",
       "3          London 4 PM               AUD               CAD   \n",
       "4          London 4 PM               AUD               CAD   \n",
       "\n",
       "  submission_onshore_offshore_curr_1 submission_onshore_offshore_curr_2  \\\n",
       "0                                NaN                                NaN   \n",
       "1                                NaN                                NaN   \n",
       "2                                NaN                                NaN   \n",
       "3                                NaN                                NaN   \n",
       "4                                NaN                                NaN   \n",
       "\n",
       "  submission_instrument_type submission_tenor  \\\n",
       "0                 Spot Price             Spot   \n",
       "1                    Forward               ON   \n",
       "2                    Forward               TN   \n",
       "3                    Forward         SpotNext   \n",
       "4                    Forward               1W   \n",
       "\n",
       "   submission_fwrd_conversion_factor  submission_value_source  \\\n",
       "0                                NaN                      NaN   \n",
       "1                            10000.0                      NaN   \n",
       "2                            10000.0                      NaN   \n",
       "3                            10000.0                      NaN   \n",
       "4                            10000.0                      NaN   \n",
       "\n",
       "   submission_value_source_ref_id  submission_spot_reference_price  \\\n",
       "0                             NaN                         0.913745   \n",
       "1                             NaN                         0.913745   \n",
       "2                             NaN                         0.913745   \n",
       "3                             NaN                         0.913745   \n",
       "4                             NaN                         0.913745   \n",
       "\n",
       "   submission_mid_fwrd_outright  submission_mid_fwrd_points  \n",
       "0                           NaN                    0.913745  \n",
       "1                      0.913750                    0.048486  \n",
       "2                      0.913750                    0.048486  \n",
       "3                      0.913750                    0.048486  \n",
       "4                      0.913776                    0.309370  "
      ]
     },
     "execution_count": 6,
     "metadata": {},
     "output_type": "execute_result"
    }
   ],
   "source": [
    "cs_nov.head()"
   ]
  },
  {
   "cell_type": "code",
   "execution_count": 7,
   "id": "94410a8c",
   "metadata": {},
   "outputs": [
    {
     "name": "stdout",
     "output_type": "stream",
     "text": [
      "There are 3313 rows in the submission \n",
      "There are 17 columns in the submission\n"
     ]
    }
   ],
   "source": [
    "print (f'There are {cs_nov.shape[0]} rows in the submission \\nThere are {cs_nov.shape[1]} columns in the submission')"
   ]
  },
  {
   "cell_type": "code",
   "execution_count": 8,
   "id": "c379de73",
   "metadata": {},
   "outputs": [
    {
     "name": "stdout",
     "output_type": "stream",
     "text": [
      "There are 0 rows with no spot price provided \n",
      "There are 149 rows with no fwrd points provided\n",
      "There are 0 rows with no fwrd points provided\n"
     ]
    }
   ],
   "source": [
    "spot_price_null = cs_nov['submission_spot_reference_price'].isna().sum()\n",
    "fwrd_outright_null = cs_nov['submission_mid_fwrd_outright'].isna().sum()\n",
    "fwrd_points_null = cs_nov['submission_mid_fwrd_points'].isna().sum()\n",
    "print(f'There are {spot_price_null} rows with no spot price provided \\nThere are {fwrd_outright_null} rows with no fwrd points provided\\nThere are {fwrd_points_null} rows with no fwrd points provided')"
   ]
  },
  {
   "cell_type": "markdown",
   "id": "6a9b99d3",
   "metadata": {},
   "source": [
    "# Step 1 (optional) - visualisation on submission points\n",
    "\n",
    "if needed, need to change the code to accommodate all currency paires"
   ]
  },
  {
   "cell_type": "code",
   "execution_count": 9,
   "id": "8874ee47",
   "metadata": {},
   "outputs": [],
   "source": [
    "# use one currency pair as example, group by this pair first\n",
    "cols = ['submission_curr_1','submission_curr_2']\n",
    "cs_nov['currency_pair'] = cs_nov[cols].apply(lambda row: '_'.join(row.values.astype(str)), axis=1)"
   ]
  },
  {
   "cell_type": "code",
   "execution_count": 10,
   "id": "d4bd13a0",
   "metadata": {},
   "outputs": [],
   "source": [
    "aud_cad = cs_nov.loc[cs_nov['currency_pair'] == 'AUD_CAD']"
   ]
  },
  {
   "cell_type": "code",
   "execution_count": 11,
   "id": "490d12fb",
   "metadata": {},
   "outputs": [],
   "source": [
    "# using melt to pull only outright and points columns before plotting them against each other\n",
    "aud_cad_small = aud_cad[['submission_tenor','submission_mid_fwrd_outright','submission_mid_fwrd_points' ]]\n",
    "aud_cad_plot = aud_cad_small.melt('submission_tenor', var_name='cols', value_name='rates')"
   ]
  },
  {
   "cell_type": "code",
   "execution_count": 12,
   "id": "1de7a8f7",
   "metadata": {},
   "outputs": [
    {
     "data": {
      "image/png": "[encoded data removed]",
      "text/plain": [
       "<Figure size 1052.85x432 with 1 Axes>"
      ]
     },
     "metadata": {},
     "output_type": "display_data"
    }
   ],
   "source": [
    "sns.set(rc={'figure.figsize':(25,30)})\n",
    "graph1 = sns.catplot(x=\"submission_tenor\", y=\"rates\", hue='cols', data=aud_cad_plot, kind='point',height=6, aspect=2)"
   ]
  },
  {
   "cell_type": "markdown",
   "id": "da3e78ef",
   "metadata": {},
   "source": [
    "# Step 2.1 - prepare the files for validaiton checks"
   ]
  },
  {
   "cell_type": "code",
   "execution_count": 13,
   "id": "b75b2568",
   "metadata": {},
   "outputs": [],
   "source": [
    "# create unique key column\n",
    "cols_1 = ['submission_curr_1','submission_curr_2','submission_onshore_offshore_curr_1', 'submission_onshore_offshore_curr_2','submission_instrument_type','submission_tenor']\n",
    "cs_nov['unique_key'] = cs_nov[cols_1].apply(lambda row: '_'.join(row.values.astype(str)), axis=1)"
   ]
  },
  {
   "cell_type": "markdown",
   "id": "907ca380",
   "metadata": {},
   "source": [
    "# Step 2.2 - all validaiton checks in a seperate module"
   ]
  },
  {
   "cell_type": "markdown",
   "id": "50ee5888",
   "metadata": {},
   "source": [
    "# Step 3.1 - validation check error report (client sharable)"
   ]
  },
  {
   "cell_type": "code",
   "execution_count": 14,
   "id": "cb02e624",
   "metadata": {},
   "outputs": [],
   "source": [
    "data = {'Check_name':['date_format_check','client_name_check','submission_asset_check','service_check_result','snaptime_check_result','curr1_check_error_count','curr2_check_error_count','currency_pair_check_result','instrument_type_match_lowscore_count','tenor_match_lowscore_count','fwrd_conversion_factor_check_result','value_source_match_lowscore_count','onoffshore_curr1_match_score_result','onoffshore_curr2_match_score_result','onoffshore_curr1_validity_error_count','onoffshore_curr2_validity_error_count','spot_reference_price_nullcheck_error_count','mid_fwrd_outright_nullcheck_error_count','mid_fwrd_points_tolerance_error_count'],'Error_count':[0,0,0,0,0,0,0,0,0,0,0,0,0,0,0,0,0,0,0]}\n",
    "validation_summary = pd.DataFrame(data)"
   ]
  },
  {
   "cell_type": "code",
   "execution_count": 15,
   "id": "e603392b",
   "metadata": {},
   "outputs": [
    {
     "data": {
      "text/html": [
       "<div>\n",
       "<style scoped>\n",
       "    .dataframe tbody tr th:only-of-type {\n",
       "        vertical-align: middle;\n",
       "    }\n",
       "\n",
       "    .dataframe tbody tr th {\n",
       "        vertical-align: top;\n",
       "    }\n",
       "\n",
       "    .dataframe thead th {\n",
       "        text-align: right;\n",
       "    }\n",
       "</style>\n",
       "<table border=\"1\" class=\"dataframe\">\n",
       "  <thead>\n",
       "    <tr style=\"text-align: right;\">\n",
       "      <th></th>\n",
       "      <th>Check_name</th>\n",
       "      <th>Error_count</th>\n",
       "    </tr>\n",
       "  </thead>\n",
       "  <tbody>\n",
       "    <tr>\n",
       "      <th>0</th>\n",
       "      <td>date_format_check</td>\n",
       "      <td>0</td>\n",
       "    </tr>\n",
       "    <tr>\n",
       "      <th>1</th>\n",
       "      <td>client_name_check</td>\n",
       "      <td>0</td>\n",
       "    </tr>\n",
       "    <tr>\n",
       "      <th>2</th>\n",
       "      <td>submission_asset_check</td>\n",
       "      <td>0</td>\n",
       "    </tr>\n",
       "    <tr>\n",
       "      <th>3</th>\n",
       "      <td>service_check_result</td>\n",
       "      <td>0</td>\n",
       "    </tr>\n",
       "    <tr>\n",
       "      <th>4</th>\n",
       "      <td>snaptime_check_result</td>\n",
       "      <td>0</td>\n",
       "    </tr>\n",
       "    <tr>\n",
       "      <th>5</th>\n",
       "      <td>curr1_check_error_count</td>\n",
       "      <td>0</td>\n",
       "    </tr>\n",
       "    <tr>\n",
       "      <th>6</th>\n",
       "      <td>curr2_check_error_count</td>\n",
       "      <td>0</td>\n",
       "    </tr>\n",
       "    <tr>\n",
       "      <th>7</th>\n",
       "      <td>currency_pair_check_result</td>\n",
       "      <td>0</td>\n",
       "    </tr>\n",
       "    <tr>\n",
       "      <th>8</th>\n",
       "      <td>instrument_type_match_lowscore_count</td>\n",
       "      <td>0</td>\n",
       "    </tr>\n",
       "    <tr>\n",
       "      <th>9</th>\n",
       "      <td>tenor_match_lowscore_count</td>\n",
       "      <td>0</td>\n",
       "    </tr>\n",
       "    <tr>\n",
       "      <th>10</th>\n",
       "      <td>fwrd_conversion_factor_check_result</td>\n",
       "      <td>0</td>\n",
       "    </tr>\n",
       "    <tr>\n",
       "      <th>11</th>\n",
       "      <td>value_source_match_lowscore_count</td>\n",
       "      <td>0</td>\n",
       "    </tr>\n",
       "    <tr>\n",
       "      <th>12</th>\n",
       "      <td>onoffshore_curr1_match_score_result</td>\n",
       "      <td>0</td>\n",
       "    </tr>\n",
       "    <tr>\n",
       "      <th>13</th>\n",
       "      <td>onoffshore_curr2_match_score_result</td>\n",
       "      <td>0</td>\n",
       "    </tr>\n",
       "    <tr>\n",
       "      <th>14</th>\n",
       "      <td>onoffshore_curr1_validity_error_count</td>\n",
       "      <td>0</td>\n",
       "    </tr>\n",
       "    <tr>\n",
       "      <th>15</th>\n",
       "      <td>onoffshore_curr2_validity_error_count</td>\n",
       "      <td>0</td>\n",
       "    </tr>\n",
       "    <tr>\n",
       "      <th>16</th>\n",
       "      <td>spot_reference_price_nullcheck_error_count</td>\n",
       "      <td>0</td>\n",
       "    </tr>\n",
       "    <tr>\n",
       "      <th>17</th>\n",
       "      <td>mid_fwrd_outright_nullcheck_error_count</td>\n",
       "      <td>0</td>\n",
       "    </tr>\n",
       "    <tr>\n",
       "      <th>18</th>\n",
       "      <td>mid_fwrd_points_tolerance_error_count</td>\n",
       "      <td>0</td>\n",
       "    </tr>\n",
       "  </tbody>\n",
       "</table>\n",
       "</div>"
      ],
      "text/plain": [
       "                                    Check_name  Error_count\n",
       "0                            date_format_check            0\n",
       "1                            client_name_check            0\n",
       "2                       submission_asset_check            0\n",
       "3                         service_check_result            0\n",
       "4                        snaptime_check_result            0\n",
       "5                      curr1_check_error_count            0\n",
       "6                      curr2_check_error_count            0\n",
       "7                   currency_pair_check_result            0\n",
       "8         instrument_type_match_lowscore_count            0\n",
       "9                   tenor_match_lowscore_count            0\n",
       "10         fwrd_conversion_factor_check_result            0\n",
       "11           value_source_match_lowscore_count            0\n",
       "12         onoffshore_curr1_match_score_result            0\n",
       "13         onoffshore_curr2_match_score_result            0\n",
       "14       onoffshore_curr1_validity_error_count            0\n",
       "15       onoffshore_curr2_validity_error_count            0\n",
       "16  spot_reference_price_nullcheck_error_count            0\n",
       "17     mid_fwrd_outright_nullcheck_error_count            0\n",
       "18       mid_fwrd_points_tolerance_error_count            0"
      ]
     },
     "execution_count": 15,
     "metadata": {},
     "output_type": "execute_result"
    }
   ],
   "source": [
    "validation_summary"
   ]
  },
  {
   "cell_type": "markdown",
   "id": "c920a5ab",
   "metadata": {},
   "source": [
    "# Step 3.2 - apply checks to submission file\n",
    "and add check result to the error report created above"
   ]
  },
  {
   "cell_type": "markdown",
   "id": "58cfd069",
   "metadata": {},
   "source": [
    "# apply data format check"
   ]
  },
  {
   "cell_type": "code",
   "execution_count": 16,
   "id": "adbee989",
   "metadata": {},
   "outputs": [],
   "source": [
    "# apply date format check\n",
    "\n",
    "cs_nov['date_format_check_result'] = cs_nov['submission_client'].apply(lambda x: date_format_check(cs_nov['submission_date']))"
   ]
  },
  {
   "cell_type": "code",
   "execution_count": 17,
   "id": "38d45845",
   "metadata": {},
   "outputs": [
    {
     "data": {
      "text/plain": [
       "0"
      ]
     },
     "execution_count": 17,
     "metadata": {},
     "output_type": "execute_result"
    }
   ],
   "source": [
    "# calculate the error count on the result column\n",
    "date_error_count = len(cs_nov) - cs_nov.date_format_check_result.value_counts().PASSED\n",
    "date_error_count"
   ]
  },
  {
   "cell_type": "markdown",
   "id": "463d46e5",
   "metadata": {},
   "source": [
    "# apply submission_client check"
   ]
  },
  {
   "cell_type": "code",
   "execution_count": 18,
   "id": "d31092a7",
   "metadata": {},
   "outputs": [],
   "source": [
    "cs_nov['client_name_check_result'] = cs_nov['submission_client'].map(client_name_check)"
   ]
  },
  {
   "cell_type": "code",
   "execution_count": 19,
   "id": "87b57589",
   "metadata": {},
   "outputs": [
    {
     "data": {
      "text/plain": [
       "0"
      ]
     },
     "execution_count": 19,
     "metadata": {},
     "output_type": "execute_result"
    }
   ],
   "source": [
    "client_name_error_count = len(cs_nov) - cs_nov.client_name_check_result.value_counts().PASSED\n",
    "client_name_error_count"
   ]
  },
  {
   "cell_type": "markdown",
   "id": "ea93163f",
   "metadata": {},
   "source": [
    "# apply submission_asset_check"
   ]
  },
  {
   "cell_type": "code",
   "execution_count": 20,
   "id": "89bf7ed7",
   "metadata": {},
   "outputs": [],
   "source": [
    "cs_nov['asset_check_result'] = cs_nov['submission_asset'].map(submission_asset_check)"
   ]
  },
  {
   "cell_type": "code",
   "execution_count": 21,
   "id": "b2a61d4c",
   "metadata": {},
   "outputs": [
    {
     "data": {
      "text/plain": [
       "Index(['submission_date', 'submission_client', 'submission_asset',\n",
       "       'submission_service', 'submission_snap_time', 'submission_curr_1',\n",
       "       'submission_curr_2', 'submission_onshore_offshore_curr_1',\n",
       "       'submission_onshore_offshore_curr_2', 'submission_instrument_type',\n",
       "       'submission_tenor', 'submission_fwrd_conversion_factor',\n",
       "       'submission_value_source', 'submission_value_source_ref_id',\n",
       "       'submission_spot_reference_price', 'submission_mid_fwrd_outright',\n",
       "       'submission_mid_fwrd_points', 'currency_pair', 'unique_key',\n",
       "       'date_format_check_result', 'client_name_check_result',\n",
       "       'asset_check_result'],\n",
       "      dtype='object')"
      ]
     },
     "execution_count": 21,
     "metadata": {},
     "output_type": "execute_result"
    }
   ],
   "source": [
    "cs_nov.columns"
   ]
  },
  {
   "cell_type": "code",
   "execution_count": 22,
   "id": "8d218b8a",
   "metadata": {},
   "outputs": [
    {
     "data": {
      "text/plain": [
       "0"
      ]
     },
     "execution_count": 22,
     "metadata": {},
     "output_type": "execute_result"
    }
   ],
   "source": [
    "asset_check_error_count =len(cs_nov)-len(cs_nov[~cs_nov.asset_check_result.str.startswith('Invalid')])\n",
    "asset_check_error_count"
   ]
  },
  {
   "cell_type": "markdown",
   "id": "8e932b4c",
   "metadata": {},
   "source": [
    "# apply submission_service check"
   ]
  },
  {
   "cell_type": "code",
   "execution_count": 23,
   "id": "5f41ce58",
   "metadata": {},
   "outputs": [],
   "source": [
    "cs_nov['service_check_result'] = cs_nov['submission_service'].map(submission_service_check)"
   ]
  },
  {
   "cell_type": "code",
   "execution_count": 24,
   "id": "8d598aa0",
   "metadata": {},
   "outputs": [
    {
     "data": {
      "text/plain": [
       "0"
      ]
     },
     "execution_count": 24,
     "metadata": {},
     "output_type": "execute_result"
    }
   ],
   "source": [
    "service_check_error_count =len(cs_nov)-len(cs_nov[~cs_nov.service_check_result.str.startswith('Invalid')])\n",
    "service_check_error_count"
   ]
  },
  {
   "cell_type": "markdown",
   "id": "69c36426",
   "metadata": {},
   "source": [
    "# apply submission_snap_time check"
   ]
  },
  {
   "cell_type": "code",
   "execution_count": 25,
   "id": "fdc38f65",
   "metadata": {},
   "outputs": [],
   "source": [
    "cs_nov['snaptime_check_result'] = cs_nov['submission_snap_time'].map(submission_snaptime_check)"
   ]
  },
  {
   "cell_type": "code",
   "execution_count": 26,
   "id": "81d9a773",
   "metadata": {},
   "outputs": [
    {
     "data": {
      "text/plain": [
       "0"
      ]
     },
     "execution_count": 26,
     "metadata": {},
     "output_type": "execute_result"
    }
   ],
   "source": [
    "snaptime_check_error_count =len(cs_nov)-len(cs_nov[~cs_nov.snaptime_check_result.str.startswith('Invalid')])\n",
    "snaptime_check_error_count"
   ]
  },
  {
   "cell_type": "markdown",
   "id": "42b27aef",
   "metadata": {},
   "source": [
    "# apply submission_curr check"
   ]
  },
  {
   "cell_type": "code",
   "execution_count": 27,
   "id": "0c9f76b0",
   "metadata": {},
   "outputs": [],
   "source": [
    "cs_nov['curr1_check_result'] = cs_nov['submission_curr_1'].map(submission_curr_check)\n",
    "cs_nov['curr2_check_result'] = cs_nov['submission_curr_2'].map(submission_curr_check)"
   ]
  },
  {
   "cell_type": "code",
   "execution_count": 28,
   "id": "92d2c003",
   "metadata": {},
   "outputs": [
    {
     "name": "stdout",
     "output_type": "stream",
     "text": [
      "0 \n",
      "0\n"
     ]
    }
   ],
   "source": [
    "curr1_check_error_count =len(cs_nov)-len(cs_nov[~cs_nov.curr1_check_result.str.startswith('Invalid')])\n",
    "curr2_check_error_count =len(cs_nov)-len(cs_nov[~cs_nov.curr2_check_result.str.startswith('Invalid')])\n",
    "print(f'{curr1_check_error_count} \\n{curr2_check_error_count}')"
   ]
  },
  {
   "cell_type": "code",
   "execution_count": 29,
   "id": "3a71f216",
   "metadata": {},
   "outputs": [],
   "source": [
    "#test1 = cs_nov[cs_nov.curr1_check_result.str.startswith('Invalid')]\n",
    "#test2 = cs_nov[cs_nov.curr2_check_result.str.startswith('Invalid')]\n",
    "#print(test1['submission_curr_1'].value_counts())\n",
    "#print(test2['submission_curr_2'].value_counts())"
   ]
  },
  {
   "cell_type": "markdown",
   "id": "a88bb23a",
   "metadata": {},
   "source": [
    "# apply Validate against reference data for valid currency"
   ]
  },
  {
   "cell_type": "code",
   "execution_count": 30,
   "id": "1609e061",
   "metadata": {},
   "outputs": [],
   "source": [
    "final =[]\n",
    "for curr1, curr2 in zip(cs_nov.submission_curr_1,cs_nov.submission_curr_2):\n",
    "    final.append(valid_currency_pair_check(curr1, curr2))\n",
    "cs_nov['currency_pair_check_result'] = final\n",
    "currency_pair_check_error_count =len(cs_nov)-len(cs_nov[~cs_nov.currency_pair_check_result.str.startswith('Invalid')])"
   ]
  },
  {
   "cell_type": "code",
   "execution_count": 31,
   "id": "a1efaf29",
   "metadata": {},
   "outputs": [
    {
     "data": {
      "text/plain": [
       "3267"
      ]
     },
     "execution_count": 31,
     "metadata": {},
     "output_type": "execute_result"
    }
   ],
   "source": [
    "currency_pair_check_error_count"
   ]
  },
  {
   "cell_type": "markdown",
   "id": "e4f2925e",
   "metadata": {},
   "source": [
    "# apply submission_instrument_type check & auto-correction"
   ]
  },
  {
   "cell_type": "code",
   "execution_count": 32,
   "id": "119cfae8",
   "metadata": {},
   "outputs": [],
   "source": [
    "cs_nov['instrument_type_check_result'] = cs_nov['submission_instrument_type'].map(submission_instrument_type_match)\n",
    "cs_nov['instrument_type_match_score'] = cs_nov['submission_instrument_type'].map(submission_instrument_type_match_score)"
   ]
  },
  {
   "cell_type": "code",
   "execution_count": 33,
   "id": "39d63d1a",
   "metadata": {},
   "outputs": [
    {
     "name": "stdout",
     "output_type": "stream",
     "text": [
      "0\n"
     ]
    }
   ],
   "source": [
    "instrument_type_match_lowscore_count =len(cs_nov[cs_nov['instrument_type_match_score']<= 30])\n",
    "print(instrument_type_match_lowscore_count)"
   ]
  },
  {
   "cell_type": "markdown",
   "id": "c81370c9",
   "metadata": {},
   "source": [
    "# apply submission_tenor check"
   ]
  },
  {
   "cell_type": "code",
   "execution_count": 34,
   "id": "693cccb3",
   "metadata": {},
   "outputs": [],
   "source": [
    "cs_nov['tenor_check_result'] = cs_nov['submission_tenor'].map(submission_tenor_check)\n",
    "cs_nov['tenor_match_score'] = cs_nov['submission_tenor'].map(submission_tenor_match_score_check)"
   ]
  },
  {
   "cell_type": "code",
   "execution_count": 35,
   "id": "e72bca97",
   "metadata": {},
   "outputs": [
    {
     "name": "stdout",
     "output_type": "stream",
     "text": [
      "0\n"
     ]
    }
   ],
   "source": [
    "tenor_match_lowscore_count =len(cs_nov[cs_nov['tenor_match_score']<= 30])\n",
    "print(tenor_match_lowscore_count)"
   ]
  },
  {
   "cell_type": "markdown",
   "id": "be89d336",
   "metadata": {},
   "source": [
    "# apply submission_fwrd_conversion_factor check"
   ]
  },
  {
   "cell_type": "code",
   "execution_count": 36,
   "id": "5e765c93",
   "metadata": {},
   "outputs": [],
   "source": [
    "cs_nov['fwrd_conversion_factor_check_result'] = cs_nov['submission_fwrd_conversion_factor'].map(submission_fwrd_conversion_factor_double_check)"
   ]
  },
  {
   "cell_type": "code",
   "execution_count": 37,
   "id": "81c96c2c",
   "metadata": {},
   "outputs": [
    {
     "name": "stdout",
     "output_type": "stream",
     "text": [
      "0\n"
     ]
    }
   ],
   "source": [
    "conversion_factor_check_error_count =len(cs_nov)-len(cs_nov[~cs_nov.fwrd_conversion_factor_check_result.str.startswith('Invalid')])\n",
    "print(conversion_factor_check_error_count)"
   ]
  },
  {
   "cell_type": "markdown",
   "id": "196b1760",
   "metadata": {},
   "source": [
    "# apply submission_value_source check"
   ]
  },
  {
   "cell_type": "markdown",
   "id": "3743985a",
   "metadata": {},
   "source": [
    "codes need to be revisited to make more efficient!"
   ]
  },
  {
   "cell_type": "code",
   "execution_count": 38,
   "id": "1e28f842",
   "metadata": {},
   "outputs": [],
   "source": [
    "value_source_list = cs_nov['submission_value_source']\n",
    "value_source_match_score = []\n",
    "for val in value_source_list:\n",
    "    if val !=val:\n",
    "        value_source_match_score.append('PASSED')\n",
    "    else:\n",
    "        value_source_match_score.append(submission_value_source_check(val))\n"
   ]
  },
  {
   "cell_type": "code",
   "execution_count": 39,
   "id": "e00b9b58",
   "metadata": {},
   "outputs": [
    {
     "data": {
      "text/plain": [
       "3313"
      ]
     },
     "execution_count": 39,
     "metadata": {},
     "output_type": "execute_result"
    }
   ],
   "source": [
    "len(value_source_match_score)"
   ]
  },
  {
   "cell_type": "code",
   "execution_count": 40,
   "id": "a17cbe4e",
   "metadata": {},
   "outputs": [],
   "source": [
    "cs_nov['value_source_check_result'] = np.array(value_source_match_score)"
   ]
  },
  {
   "cell_type": "code",
   "execution_count": 41,
   "id": "8a1273fa",
   "metadata": {},
   "outputs": [],
   "source": [
    "value_source_match_score_result = []\n",
    "for val in value_source_list:\n",
    "    if val !=val:\n",
    "        value_source_match_score_result.append(int(100))\n",
    "    else:\n",
    "        value_source_match_score_result.append(submission_onshore_offshore_match_score(val))"
   ]
  },
  {
   "cell_type": "code",
   "execution_count": 42,
   "id": "67c386e6",
   "metadata": {},
   "outputs": [],
   "source": [
    "cs_nov['value_source_match_score'] = np.array(value_source_match_score_result)"
   ]
  },
  {
   "cell_type": "code",
   "execution_count": 43,
   "id": "609d4d0b",
   "metadata": {},
   "outputs": [
    {
     "name": "stdout",
     "output_type": "stream",
     "text": [
      "0\n"
     ]
    }
   ],
   "source": [
    "value_source_match_lowscore_count =len(cs_nov[cs_nov['value_source_match_score']<= 30])\n",
    "print(value_source_match_lowscore_count)"
   ]
  },
  {
   "cell_type": "markdown",
   "id": "281c8f61",
   "metadata": {},
   "source": [
    "# apply submission_onshore_offshore_curr check on both curr1 and curr2"
   ]
  },
  {
   "cell_type": "markdown",
   "id": "4c7711f2",
   "metadata": {},
   "source": [
    "codes need to be revisited to make more efficient!"
   ]
  },
  {
   "cell_type": "code",
   "execution_count": 44,
   "id": "1d9802c5",
   "metadata": {},
   "outputs": [],
   "source": [
    "onoffshore_list1 = cs_nov['submission_onshore_offshore_curr_1']\n",
    "onoffshore_list2 = cs_nov['submission_onshore_offshore_curr_2']\n",
    "submission_curr_list1 = cs_nov['submission_curr_1']\n",
    "submission_curr_list2 = cs_nov['submission_curr_2']"
   ]
  },
  {
   "cell_type": "code",
   "execution_count": 45,
   "id": "d922f5d6",
   "metadata": {},
   "outputs": [],
   "source": [
    "onoffshore_curr1_check_result = []\n",
    "onoffshore_curr2_check_result = []\n",
    "\n",
    "for val1 in onoffshore_list1:\n",
    "    if val1 !=val1:\n",
    "        onoffshore_curr1_check_result.append('PASSED')\n",
    "    else:\n",
    "        onoffshore_curr1_check_result.append(submission_onshore_offshore_check(val1))\n",
    "        \n",
    "for val2 in onoffshore_list2:\n",
    "    if val2 !=val2:\n",
    "        onoffshore_curr2_check_result.append('PASSED')\n",
    "    else:\n",
    "        onoffshore_curr2_check_result.append(submission_onshore_offshore_check(val2))"
   ]
  },
  {
   "cell_type": "code",
   "execution_count": 46,
   "id": "79bceb35",
   "metadata": {},
   "outputs": [],
   "source": [
    "onoffshore_curr1_match_score_result = []\n",
    "onoffshore_curr2_match_score_result = []\n",
    "\n",
    "for val1 in onoffshore_list1:\n",
    "    if val1 !=val1:\n",
    "        onoffshore_curr1_match_score_result.append(int(100))\n",
    "    else:\n",
    "        onoffshore_curr1_match_score_result.append(submission_onshore_offshore_match_score(val1))\n",
    "\n",
    "for val2 in onoffshore_list2:\n",
    "    if val2 !=val2:\n",
    "        onoffshore_curr2_match_score_result.append(int(100))\n",
    "    else:\n",
    "        onoffshore_curr2_match_score_result.append(submission_onshore_offshore_match_score(val2))"
   ]
  },
  {
   "cell_type": "code",
   "execution_count": 47,
   "id": "ae38806f",
   "metadata": {},
   "outputs": [],
   "source": [
    "cs_nov['onoffshore_curr1_check_result'] = np.array(onoffshore_curr1_check_result)\n",
    "cs_nov['onoffshore_curr1_match_score_result'] = np.array(onoffshore_curr1_match_score_result)"
   ]
  },
  {
   "cell_type": "code",
   "execution_count": 48,
   "id": "61724a63",
   "metadata": {},
   "outputs": [],
   "source": [
    "cs_nov['onoffshore_curr2_check_result'] = np.array(onoffshore_curr2_check_result)\n",
    "cs_nov['onoffshore_curr2_match_score_result'] = np.array(onoffshore_curr2_match_score_result)"
   ]
  },
  {
   "cell_type": "code",
   "execution_count": 49,
   "id": "1a8f9e29",
   "metadata": {},
   "outputs": [
    {
     "name": "stdout",
     "output_type": "stream",
     "text": [
      "0 \n",
      "0\n"
     ]
    }
   ],
   "source": [
    "onoffshore_curr1_match_lowscore_count =len(cs_nov[cs_nov['onoffshore_curr1_match_score_result']<= 30])\n",
    "onoffshore_curr2_match_lowscore_count =len(cs_nov[cs_nov['onoffshore_curr2_match_score_result']<= 30])\n",
    "print(f'{onoffshore_curr1_match_lowscore_count} \\n{onoffshore_curr2_match_lowscore_count}')                                                "
   ]
  },
  {
   "cell_type": "markdown",
   "id": "83daaae0",
   "metadata": {},
   "source": [
    "# apply submission_curr code and onoffshore flag validity check"
   ]
  },
  {
   "cell_type": "code",
   "execution_count": 50,
   "id": "9edef78c",
   "metadata": {},
   "outputs": [],
   "source": [
    "onoffshore_curr1_validity_check =[]\n",
    "onoffshore_curr2_validity_check =[]\n",
    "\n",
    "for curr1, flag1 in zip(submission_curr_list1,onoffshore_list1):\n",
    "    onoffshore_curr1_validity_check.append(submission_onshore_offshore_curr_check(curr1,flag1))\n",
    "\n",
    "for curr2, flag2 in zip(submission_curr_list2,onoffshore_list2):\n",
    "    onoffshore_curr2_validity_check.append(submission_onshore_offshore_curr_check(curr2,flag2))"
   ]
  },
  {
   "cell_type": "code",
   "execution_count": 51,
   "id": "9d8b577c",
   "metadata": {},
   "outputs": [],
   "source": [
    "cs_nov['onoffshore_curr1_validity_check_result'] = np.array(onoffshore_curr1_validity_check)\n",
    "cs_nov['onoffshore_curr2_validity_check_result'] = np.array(onoffshore_curr2_validity_check)"
   ]
  },
  {
   "cell_type": "code",
   "execution_count": 52,
   "id": "04b44ab3",
   "metadata": {},
   "outputs": [
    {
     "name": "stdout",
     "output_type": "stream",
     "text": [
      "110 \n",
      "264\n"
     ]
    }
   ],
   "source": [
    "onoffshore_curr1_validity_error_count =len(cs_nov)-len(cs_nov[~cs_nov.onoffshore_curr1_validity_check_result.str.startswith('Inconsistent')])\n",
    "onoffshore_curr2_validity_error_count =len(cs_nov)-len(cs_nov[~cs_nov.onoffshore_curr2_validity_check_result.str.startswith('Inconsistent')])\n",
    "print(f'{onoffshore_curr1_validity_error_count} \\n{onoffshore_curr2_validity_error_count}')"
   ]
  },
  {
   "cell_type": "markdown",
   "id": "7345e666",
   "metadata": {},
   "source": [
    "# apply submission_spot_reference_price check"
   ]
  },
  {
   "cell_type": "code",
   "execution_count": 53,
   "id": "838c2374",
   "metadata": {},
   "outputs": [],
   "source": [
    "cs_nov['spot_reference_price_nullcheck_result'] = cs_nov['submission_spot_reference_price'].map(submission_spot_reference_price_check)"
   ]
  },
  {
   "cell_type": "code",
   "execution_count": 54,
   "id": "22a32748",
   "metadata": {},
   "outputs": [
    {
     "name": "stdout",
     "output_type": "stream",
     "text": [
      "0\n"
     ]
    }
   ],
   "source": [
    "spot_reference_price_nullcheck_error_count =len(cs_nov)-len(cs_nov[~cs_nov.spot_reference_price_nullcheck_result.str.startswith('Invalid')])\n",
    "print(spot_reference_price_nullcheck_error_count)"
   ]
  },
  {
   "cell_type": "markdown",
   "id": "af695f14",
   "metadata": {},
   "source": [
    "# apply submission_spot_reference_price auto-fill - TO BE COMPLETED"
   ]
  },
  {
   "cell_type": "markdown",
   "id": "c3df57a0",
   "metadata": {},
   "source": [
    "# apply submission_mid_fwrd_outright check"
   ]
  },
  {
   "cell_type": "code",
   "execution_count": 55,
   "id": "99632147",
   "metadata": {},
   "outputs": [],
   "source": [
    "cs_nov['mid_fwrd_outright_nullcheck_result'] = cs_nov['submission_mid_fwrd_outright'].map(submission_mid_fwrd_outright_check)"
   ]
  },
  {
   "cell_type": "code",
   "execution_count": 56,
   "id": "5ce3dee8",
   "metadata": {},
   "outputs": [
    {
     "name": "stdout",
     "output_type": "stream",
     "text": [
      "149\n"
     ]
    }
   ],
   "source": [
    "mid_fwrd_outright_nullcheck_error_count =len(cs_nov)-len(cs_nov[~cs_nov.mid_fwrd_outright_nullcheck_result.str.startswith('Invalid')])\n",
    "print(mid_fwrd_outright_nullcheck_error_count)"
   ]
  },
  {
   "cell_type": "markdown",
   "id": "3e1a94f1",
   "metadata": {},
   "source": [
    "# apply submission_mid_fwrd_points_tolerance check"
   ]
  },
  {
   "cell_type": "code",
   "execution_count": 57,
   "id": "bef198a0",
   "metadata": {},
   "outputs": [],
   "source": [
    "cs_nov['mid_fwrd_points_calculated'] = (cs_nov['submission_mid_fwrd_outright']-cs_nov['submission_spot_reference_price'])*cs_nov['submission_fwrd_conversion_factor']"
   ]
  },
  {
   "cell_type": "code",
   "execution_count": 58,
   "id": "4bd4a95c",
   "metadata": {},
   "outputs": [],
   "source": [
    "cs_nov['mid_fwrd_points_cal_diff'] = (cs_nov['submission_mid_fwrd_points']-cs_nov['mid_fwrd_points_calculated'])/cs_nov['submission_mid_fwrd_points']"
   ]
  },
  {
   "cell_type": "code",
   "execution_count": 59,
   "id": "dd5b1d13",
   "metadata": {},
   "outputs": [],
   "source": [
    "cs_nov['mid_fwrd_points_tolerance_check_result'] = cs_nov['mid_fwrd_points_cal_diff'].map(submission_mid_fwrd_points_cal_tolerance_check)"
   ]
  },
  {
   "cell_type": "code",
   "execution_count": 60,
   "id": "941f4703",
   "metadata": {},
   "outputs": [
    {
     "name": "stdout",
     "output_type": "stream",
     "text": [
      "0\n"
     ]
    }
   ],
   "source": [
    "mid_fwrd_points_tolerance_error_count =len(cs_nov)-len(cs_nov[~cs_nov.mid_fwrd_points_tolerance_check_result.str.startswith('Invalid')])\n",
    "print(mid_fwrd_points_tolerance_error_count)"
   ]
  },
  {
   "cell_type": "markdown",
   "id": "6806d479",
   "metadata": {},
   "source": [
    "# Add all check results to the summary table"
   ]
  },
  {
   "cell_type": "code",
   "execution_count": 61,
   "id": "b7b57264",
   "metadata": {},
   "outputs": [],
   "source": [
    "validation_summary.loc[0, 'Error_count'] = date_error_count\n",
    "validation_summary.loc[1, 'Error_count'] = client_name_error_count\n",
    "validation_summary.loc[2, 'Error_count'] = asset_check_error_count\n",
    "validation_summary.loc[3, 'Error_count'] = service_check_error_count\n",
    "validation_summary.loc[4, 'Error_count'] = snaptime_check_error_count\n",
    "validation_summary.loc[5, 'Error_count'] = curr1_check_error_count\n",
    "validation_summary.loc[6, 'Error_count'] = curr2_check_error_count\n",
    "validation_summary.loc[7, 'Error_count'] = currency_pair_check_error_count\n",
    "validation_summary.loc[8, 'Error_count'] = instrument_type_match_lowscore_count\n",
    "validation_summary.loc[9, 'Error_count'] = tenor_match_lowscore_count\n",
    "validation_summary.loc[10, 'Error_count'] = conversion_factor_check_error_count\n",
    "validation_summary.loc[11, 'Error_count'] = value_source_match_lowscore_count\n",
    "validation_summary.loc[12, 'Error_count'] = onoffshore_curr1_match_lowscore_count\n",
    "validation_summary.loc[13, 'Error_count'] = onoffshore_curr2_match_lowscore_count\n",
    "validation_summary.loc[14, 'Error_count'] = onoffshore_curr1_validity_error_count\n",
    "validation_summary.loc[15, 'Error_count'] = onoffshore_curr2_validity_error_count\n",
    "validation_summary.loc[16, 'Error_count'] = spot_reference_price_nullcheck_error_count\n",
    "validation_summary.loc[17, 'Error_count'] = mid_fwrd_outright_nullcheck_error_count"
   ]
  },
  {
   "cell_type": "code",
   "execution_count": 62,
   "id": "9a03d378",
   "metadata": {},
   "outputs": [
    {
     "data": {
      "text/html": [
       "<div>\n",
       "<style scoped>\n",
       "    .dataframe tbody tr th:only-of-type {\n",
       "        vertical-align: middle;\n",
       "    }\n",
       "\n",
       "    .dataframe tbody tr th {\n",
       "        vertical-align: top;\n",
       "    }\n",
       "\n",
       "    .dataframe thead th {\n",
       "        text-align: right;\n",
       "    }\n",
       "</style>\n",
       "<table border=\"1\" class=\"dataframe\">\n",
       "  <thead>\n",
       "    <tr style=\"text-align: right;\">\n",
       "      <th></th>\n",
       "      <th>Check_name</th>\n",
       "      <th>Error_count</th>\n",
       "    </tr>\n",
       "  </thead>\n",
       "  <tbody>\n",
       "    <tr>\n",
       "      <th>0</th>\n",
       "      <td>date_format_check</td>\n",
       "      <td>0</td>\n",
       "    </tr>\n",
       "    <tr>\n",
       "      <th>1</th>\n",
       "      <td>client_name_check</td>\n",
       "      <td>0</td>\n",
       "    </tr>\n",
       "    <tr>\n",
       "      <th>2</th>\n",
       "      <td>submission_asset_check</td>\n",
       "      <td>0</td>\n",
       "    </tr>\n",
       "    <tr>\n",
       "      <th>3</th>\n",
       "      <td>service_check_result</td>\n",
       "      <td>0</td>\n",
       "    </tr>\n",
       "    <tr>\n",
       "      <th>4</th>\n",
       "      <td>snaptime_check_result</td>\n",
       "      <td>0</td>\n",
       "    </tr>\n",
       "    <tr>\n",
       "      <th>5</th>\n",
       "      <td>curr1_check_error_count</td>\n",
       "      <td>0</td>\n",
       "    </tr>\n",
       "    <tr>\n",
       "      <th>6</th>\n",
       "      <td>curr2_check_error_count</td>\n",
       "      <td>0</td>\n",
       "    </tr>\n",
       "    <tr>\n",
       "      <th>7</th>\n",
       "      <td>currency_pair_check_result</td>\n",
       "      <td>3267</td>\n",
       "    </tr>\n",
       "    <tr>\n",
       "      <th>8</th>\n",
       "      <td>instrument_type_match_lowscore_count</td>\n",
       "      <td>0</td>\n",
       "    </tr>\n",
       "    <tr>\n",
       "      <th>9</th>\n",
       "      <td>tenor_match_lowscore_count</td>\n",
       "      <td>0</td>\n",
       "    </tr>\n",
       "    <tr>\n",
       "      <th>10</th>\n",
       "      <td>fwrd_conversion_factor_check_result</td>\n",
       "      <td>0</td>\n",
       "    </tr>\n",
       "    <tr>\n",
       "      <th>11</th>\n",
       "      <td>value_source_match_lowscore_count</td>\n",
       "      <td>0</td>\n",
       "    </tr>\n",
       "    <tr>\n",
       "      <th>12</th>\n",
       "      <td>onoffshore_curr1_match_score_result</td>\n",
       "      <td>0</td>\n",
       "    </tr>\n",
       "    <tr>\n",
       "      <th>13</th>\n",
       "      <td>onoffshore_curr2_match_score_result</td>\n",
       "      <td>0</td>\n",
       "    </tr>\n",
       "    <tr>\n",
       "      <th>14</th>\n",
       "      <td>onoffshore_curr1_validity_error_count</td>\n",
       "      <td>110</td>\n",
       "    </tr>\n",
       "    <tr>\n",
       "      <th>15</th>\n",
       "      <td>onoffshore_curr2_validity_error_count</td>\n",
       "      <td>264</td>\n",
       "    </tr>\n",
       "    <tr>\n",
       "      <th>16</th>\n",
       "      <td>spot_reference_price_nullcheck_error_count</td>\n",
       "      <td>0</td>\n",
       "    </tr>\n",
       "    <tr>\n",
       "      <th>17</th>\n",
       "      <td>mid_fwrd_outright_nullcheck_error_count</td>\n",
       "      <td>149</td>\n",
       "    </tr>\n",
       "    <tr>\n",
       "      <th>18</th>\n",
       "      <td>mid_fwrd_points_tolerance_error_count</td>\n",
       "      <td>0</td>\n",
       "    </tr>\n",
       "  </tbody>\n",
       "</table>\n",
       "</div>"
      ],
      "text/plain": [
       "                                    Check_name  Error_count\n",
       "0                            date_format_check            0\n",
       "1                            client_name_check            0\n",
       "2                       submission_asset_check            0\n",
       "3                         service_check_result            0\n",
       "4                        snaptime_check_result            0\n",
       "5                      curr1_check_error_count            0\n",
       "6                      curr2_check_error_count            0\n",
       "7                   currency_pair_check_result         3267\n",
       "8         instrument_type_match_lowscore_count            0\n",
       "9                   tenor_match_lowscore_count            0\n",
       "10         fwrd_conversion_factor_check_result            0\n",
       "11           value_source_match_lowscore_count            0\n",
       "12         onoffshore_curr1_match_score_result            0\n",
       "13         onoffshore_curr2_match_score_result            0\n",
       "14       onoffshore_curr1_validity_error_count          110\n",
       "15       onoffshore_curr2_validity_error_count          264\n",
       "16  spot_reference_price_nullcheck_error_count            0\n",
       "17     mid_fwrd_outright_nullcheck_error_count          149\n",
       "18       mid_fwrd_points_tolerance_error_count            0"
      ]
     },
     "execution_count": 62,
     "metadata": {},
     "output_type": "execute_result"
    }
   ],
   "source": [
    "validation_summary"
   ]
  },
  {
   "cell_type": "markdown",
   "id": "9fe8478f",
   "metadata": {},
   "source": [
    "# save validation summary report to a csv file (into the same location)"
   ]
  },
  {
   "cell_type": "code",
   "execution_count": 64,
   "id": "4336e793",
   "metadata": {},
   "outputs": [],
   "source": [
    "validation_summary.to_csv('validation_summary_cs_Nov.csv', index=False)"
   ]
  },
  {
   "cell_type": "markdown",
   "id": "fd574058",
   "metadata": {},
   "source": [
    "# save submission check file with all check results details to a csv file (into the same location)"
   ]
  },
  {
   "cell_type": "code",
   "execution_count": 65,
   "id": "934338fe",
   "metadata": {},
   "outputs": [],
   "source": [
    "cs_nov.to_csv('cs_Nov_submission_dq_report.csv', index=False)"
   ]
  }
 ],
 "metadata": {
  "kernelspec": {
   "display_name": "Python 3",
   "language": "python",
   "name": "python3"
  },
  "language_info": {
   "codemirror_mode": {
    "name": "ipython",
    "version": 3
   },
   "file_extension": ".py",
   "mimetype": "text/x-python",
   "name": "python",
   "nbconvert_exporter": "python",
   "pygments_lexer": "ipython3",
   "version": "3.8.8"
  }
 },
 "nbformat": 4,
 "nbformat_minor": 5
}
